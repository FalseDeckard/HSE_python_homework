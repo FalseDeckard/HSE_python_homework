{
  "nbformat": 4,
  "nbformat_minor": 0,
  "metadata": {
    "colab": {
      "provenance": []
    },
    "kernelspec": {
      "name": "python3",
      "display_name": "Python 3"
    },
    "language_info": {
      "name": "python"
    }
  },
  "cells": [
    {
      "cell_type": "markdown",
      "source": [
        "# 1. Средний балл (списки)"
      ],
      "metadata": {
        "id": "ojqqkOx7-RM9"
      }
    },
    {
      "cell_type": "code",
      "execution_count": null,
      "metadata": {
        "id": "_wR7Kxck-IBx"
      },
      "outputs": [],
      "source": [
        "student = ['Иван Питонов', 2001, [8, 7, 7, 9, 6], True]"
      ]
    },
    {
      "cell_type": "code",
      "source": [
        "name_surname = student[0].split()\n",
        "print(f\"Студент: {name_surname[0]}, {name_surname[1]}\")"
      ],
      "metadata": {
        "colab": {
          "base_uri": "https://localhost:8080/"
        },
        "id": "qFwb-ZQX_jq-",
        "outputId": "f27c429f-f1b7-460a-a94e-86bed553b831"
      },
      "execution_count": null,
      "outputs": [
        {
          "output_type": "stream",
          "name": "stdout",
          "text": [
            "Студент: Иван, Питонов\n"
          ]
        }
      ]
    },
    {
      "cell_type": "code",
      "source": [
        "from datetime import datetime\n",
        "age = datetime.now().year - int(student[1])\n",
        "print(f'Возраст студента: {age}')"
      ],
      "metadata": {
        "colab": {
          "base_uri": "https://localhost:8080/"
        },
        "id": "_fhxgAn3Ac0o",
        "outputId": "e29a566c-1c1f-48ae-a5ad-a5f84fce836f"
      },
      "execution_count": null,
      "outputs": [
        {
          "output_type": "stream",
          "name": "stdout",
          "text": [
            "Возраст студента: 22\n"
          ]
        }
      ]
    },
    {
      "cell_type": "code",
      "source": [
        "grades = ', '.join(map(str, student[2]))\n",
        "print(f'Оценки студента: {grades}')"
      ],
      "metadata": {
        "colab": {
          "base_uri": "https://localhost:8080/"
        },
        "id": "06PPMr7jBm88",
        "outputId": "1d226564-91a0-4ad7-8729-adb9ff2054bf"
      },
      "execution_count": null,
      "outputs": [
        {
          "output_type": "stream",
          "name": "stdout",
          "text": [
            "Оценки студента: 8, 7, 7, 9, 6\n"
          ]
        }
      ]
    },
    {
      "cell_type": "code",
      "source": [
        "middle_grade = 0\n",
        "if type(student[2]) == list:\n",
        "  middle_grade = sum(student[2]) / len(student[2])\n",
        "  print(f'Средняя оценка студента: {middle_grade}')\n",
        "else:\n",
        "  print('Не найден список оценок.')"
      ],
      "metadata": {
        "colab": {
          "base_uri": "https://localhost:8080/"
        },
        "id": "Ztc0hbtnDPWx",
        "outputId": "66112d42-321a-411c-f877-6bcbda4f4ef0"
      },
      "execution_count": null,
      "outputs": [
        {
          "output_type": "stream",
          "name": "stdout",
          "text": [
            "Средняя оценка студента: 7.4\n"
          ]
        }
      ]
    },
    {
      "cell_type": "code",
      "source": [
        "if middle_grade >= 8:\n",
        "  payment = True\n",
        "else:\n",
        "  payment = False\n",
        "f'Студент получает повышенную стипендию: {payment}'"
      ],
      "metadata": {
        "colab": {
          "base_uri": "https://localhost:8080/",
          "height": 35
        },
        "id": "yNuS5DEbEUlP",
        "outputId": "bca170c5-0d76-48bd-8301-8f45be7650b2"
      },
      "execution_count": null,
      "outputs": [
        {
          "output_type": "execute_result",
          "data": {
            "text/plain": [
              "'Студент получает повышенную стипендию: False'"
            ],
            "application/vnd.google.colaboratory.intrinsic+json": {
              "type": "string"
            }
          },
          "metadata": {},
          "execution_count": 6
        }
      ]
    },
    {
      "cell_type": "markdown",
      "source": [
        "# 2. Срезы списков"
      ],
      "metadata": {
        "id": "KaXV90w5E3db"
      }
    },
    {
      "cell_type": "code",
      "source": [
        "dwarves = [\"Балин\", \"Двалин\", \"Бифур\", \"Бофур\",\n",
        "         \"Бомбур\", \"Оин\", \"Глоин\", \"Дори\", \"Нори\",\n",
        "         \"Ори\", \"Фили\", \"Кили\", \"Торин\"]"
      ],
      "metadata": {
        "id": "j13TEluvE7ML"
      },
      "execution_count": null,
      "outputs": []
    },
    {
      "cell_type": "code",
      "source": [
        "dwarves[1:4]"
      ],
      "metadata": {
        "colab": {
          "base_uri": "https://localhost:8080/"
        },
        "id": "jx30KCv2E-P2",
        "outputId": "210543d8-aa6c-4299-9565-a5c6bd523337"
      },
      "execution_count": null,
      "outputs": [
        {
          "output_type": "stream",
          "name": "stdout",
          "text": [
            "['Двалин', 'Бифур', 'Бофур']\n"
          ]
        }
      ]
    },
    {
      "cell_type": "code",
      "source": [
        "dwarves[0::2]"
      ],
      "metadata": {
        "colab": {
          "base_uri": "https://localhost:8080/"
        },
        "id": "ewVClP8cF31j",
        "outputId": "de77fae7-725d-4d9b-a3c6-457c52672f30"
      },
      "execution_count": null,
      "outputs": [
        {
          "output_type": "stream",
          "name": "stdout",
          "text": [
            "['Балин', 'Бифур', 'Бомбур', 'Глоин', 'Нори', 'Фили', 'Торин']\n"
          ]
        }
      ]
    },
    {
      "cell_type": "code",
      "source": [
        "dwarves[5:12:2]"
      ],
      "metadata": {
        "colab": {
          "base_uri": "https://localhost:8080/"
        },
        "id": "13NmZhMaGNSt",
        "outputId": "45376fce-1b44-4b9e-8ac8-de8a0402ed03"
      },
      "execution_count": null,
      "outputs": [
        {
          "output_type": "stream",
          "name": "stdout",
          "text": [
            "['Оин', 'Дори', 'Ори', 'Кили']\n"
          ]
        }
      ]
    },
    {
      "cell_type": "code",
      "source": [
        "dwarves[12:5:-2]"
      ],
      "metadata": {
        "colab": {
          "base_uri": "https://localhost:8080/"
        },
        "id": "uKR9QpaYGke9",
        "outputId": "f6edbcf2-1f95-40c2-c1f8-6aa3079be1ac"
      },
      "execution_count": null,
      "outputs": [
        {
          "output_type": "stream",
          "name": "stdout",
          "text": [
            "['Торин', 'Фили', 'Нори', 'Глоин']\n"
          ]
        }
      ]
    },
    {
      "cell_type": "markdown",
      "source": [
        "# 3. Вложенные словари"
      ],
      "metadata": {
        "id": "7i6AqcQGGz4h"
      }
    },
    {
      "cell_type": "code",
      "source": [
        "dict_of_lists = {'Список1': [{'Python': 'язык программирования'}, {'R':'язык программирования', 'LaTEX' : 'язык верстки' }],\n",
        "                 'Список2' : [{'Windows' : ['операционная система', 'разработчик'], 'UNIX' : 'операционная система'},\n",
        "                              {'IBM': ['компания-производитель', 'разработчик'], 'IPv6' : 'интернет-протокол' }]}\n",
        "\n",
        "dict_of_lists['Список2'][0]['Windows'][1]"
      ],
      "metadata": {
        "colab": {
          "base_uri": "https://localhost:8080/",
          "height": 36
        },
        "id": "QkYLKcZFG0do",
        "outputId": "91879fc7-bb2a-4ecf-f031-e06823dc405a"
      },
      "execution_count": null,
      "outputs": [
        {
          "output_type": "execute_result",
          "data": {
            "text/plain": [
              "'разработчик'"
            ],
            "application/vnd.google.colaboratory.intrinsic+json": {
              "type": "string"
            }
          },
          "metadata": {},
          "execution_count": 41
        }
      ]
    },
    {
      "cell_type": "markdown",
      "source": [
        "# 4. Количество различных чисел (списки и множества)"
      ],
      "metadata": {
        "id": "61rcw3DSJY24"
      }
    },
    {
      "cell_type": "code",
      "source": [
        "import numpy as np\n",
        "\n",
        "\n",
        "# Генерирую случайную длину до 100000\n",
        "length = np.random.randint(1,100000)\n",
        "\n",
        "# Генерирую случайный список целых чисел из length элементов\n",
        "int_list = list(np.random.binomial(length, 0.5,size = length))\n",
        "\n",
        "unique_count = len(set(int_list))\n",
        "print(unique_count)"
      ],
      "metadata": {
        "id": "qZCNjmlIJfcP",
        "colab": {
          "base_uri": "https://localhost:8080/"
        },
        "outputId": "21d1682d-7f8c-4809-fd1b-23c59a0e510e"
      },
      "execution_count": null,
      "outputs": [
        {
          "output_type": "stream",
          "name": "stdout",
          "text": [
            "245\n"
          ]
        }
      ]
    },
    {
      "cell_type": "code",
      "source": [
        "import matplotlib.pyplot as plt\n",
        "\n",
        "AMOUNT_OF_EXPERIMENTS = 1000\n",
        "results = list()\n",
        "\n",
        "for i in range(AMOUNT_OF_EXPERIMENTS):\n",
        "    length = np.random.randint(1, 100000)\n",
        "    random_sequence = np.random.binomial(length, 0.5, size=length)\n",
        "    sequence_length = len(random_sequence)\n",
        "    unique_numbers_count = len(np.unique(random_sequence))\n",
        "    results.append((sequence_length, unique_numbers_count))\n",
        "\n",
        "results.sort()\n",
        "\n",
        "plt.plot(x, y)\n",
        "plt.xlabel(\"Sequence length\")\n",
        "plt.ylabel(\"Unique numbers count\")\n",
        "plt.title(\"Unique numbers\")\n",
        "plt.show()\n"
      ],
      "metadata": {
        "colab": {
          "base_uri": "https://localhost:8080/",
          "height": 472
        },
        "id": "w02xSVIxpYJ_",
        "outputId": "a6be3788-8a46-4d40-eaa0-0db23a1d9c18"
      },
      "execution_count": null,
      "outputs": [
        {
          "output_type": "display_data",
          "data": {
            "text/plain": [
              "<Figure size 640x480 with 1 Axes>"
            ],
            "image/png": "[encoded data removed]"
          },
          "metadata": {}
        }
      ]
    },
    {
      "cell_type": "markdown",
      "source": [
        "# 5. Сортируем числа и строки (списки, сортировки, map())"
      ],
      "metadata": {
        "id": "oKnTjkn9nzMy"
      }
    },
    {
      "cell_type": "code",
      "source": [
        "numbers = [1, 1000, 1002124, 25, 10, 20, 351]\n",
        "numbers_int_sorted = sorted(numbers)"
      ],
      "metadata": {
        "id": "eB31jmWPn2Rw"
      },
      "execution_count": null,
      "outputs": []
    },
    {
      "cell_type": "code",
      "source": [
        "numbers_str = list(map(str, numbers))"
      ],
      "metadata": {
        "id": "9IeOsJSaoYYr"
      },
      "execution_count": null,
      "outputs": []
    },
    {
      "cell_type": "code",
      "source": [
        "numbers_str_sorted = sorted(numbers_str)"
      ],
      "metadata": {
        "id": "-qFiS6tyoh3g"
      },
      "execution_count": null,
      "outputs": []
    },
    {
      "cell_type": "code",
      "source": [
        "numbers_str_key_sorted = sorted(numbers_str, key=int)"
      ],
      "metadata": {
        "id": "caUPbmr5ttSm"
      },
      "execution_count": null,
      "outputs": []
    },
    {
      "cell_type": "code",
      "source": [
        "print(numbers_int_sorted, numbers_str_sorted, numbers_str_key_sorted, sep='\\n')"
      ],
      "metadata": {
        "colab": {
          "base_uri": "https://localhost:8080/"
        },
        "id": "dCC5HyKCuDzj",
        "outputId": "39d6c57b-6c5d-40ca-ad5d-b0e4cca4b7eb"
      },
      "execution_count": null,
      "outputs": [
        {
          "output_type": "stream",
          "name": "stdout",
          "text": [
            "[1, 10, 20, 25, 351, 1000, 1002124]\n",
            "['1', '10', '1000', '1002124', '20', '25', '351']\n",
            "['1', '10', '20', '25', '351', '1000', '1002124']\n"
          ]
        }
      ]
    },
    {
      "cell_type": "markdown",
      "source": [
        "Отвечая на поставленный в задаче вопрос - numbers_int_sorted и numbers_str_key_sorted имеют одинаковый порядок сортировки (но разный тип хранимых данных). Происходит так потому, что в последнем списке сортировка происходит по функции ключа int."
      ],
      "metadata": {
        "id": "hSYTyu27u1tb"
      }
    },
    {
      "cell_type": "markdown",
      "source": [
        "# 6. Факультативы (множества)"
      ],
      "metadata": {
        "id": "S-97mzzbvjoU"
      }
    },
    {
      "cell_type": "code",
      "source": [
        "student_1 = set(input().split())\n",
        "student_2 = set(input().split())\n",
        "student_3 = set(input().split())\n",
        "len(student_1 & student_2 & student_3)"
      ],
      "metadata": {
        "colab": {
          "base_uri": "https://localhost:8080/"
        },
        "id": "45sS98IKvmne",
        "outputId": "63f68289-195f-42bc-df1e-c98dfce835eb"
      },
      "execution_count": null,
      "outputs": [
        {
          "name": "stdout",
          "output_type": "stream",
          "text": [
            "математика немецкий право\n",
            "математика немецкий право\n",
            "математика немецкий право\n"
          ]
        }
      ]
    },
    {
      "cell_type": "markdown",
      "source": [
        "# 7. Даны два отсортированных списка, соедините их в один отсортированный список"
      ],
      "metadata": {
        "id": "uA7MvhxQy-Ye"
      }
    },
    {
      "cell_type": "code",
      "source": [
        "list_1 = eval(input())\n",
        "list_2 = eval(input())\n",
        "new_list = sorted(list_1 + list_2, key=int)\n",
        "new_list"
      ],
      "metadata": {
        "colab": {
          "base_uri": "https://localhost:8080/"
        },
        "id": "LQzoiXvczB01",
        "outputId": "07b41055-4760-4688-cd2f-3453644da4e7"
      },
      "execution_count": null,
      "outputs": [
        {
          "name": "stdout",
          "output_type": "stream",
          "text": [
            "[1, 2, 3]\n",
            "[3, 4, 5, 6,]\n"
          ]
        },
        {
          "output_type": "execute_result",
          "data": {
            "text/plain": [
              "[1, 2, 3, 3, 4, 5, 6]"
            ]
          },
          "metadata": {},
          "execution_count": 1
        }
      ]
    },
    {
      "cell_type": "markdown",
      "source": [
        "# 8. Про Поросёнка Петра"
      ],
      "metadata": {
        "id": "0uhmgNjgD7lW"
      }
    },
    {
      "cell_type": "code",
      "source": [
        "N = int(input())\n",
        "x, y = 0, 0\n",
        "for i in range(N):\n",
        "    move = input(f\"Ход {i + 1}: \").split()\n",
        "    direction = move[0]\n",
        "    quantity = int(move[1])\n",
        "\n",
        "    if direction == 'Вверх':\n",
        "        y += quantity\n",
        "    elif direction == 'Вниз':\n",
        "        y -= quantity\n",
        "    elif direction == 'Влево':\n",
        "        x -= quantity\n",
        "    elif direction == 'Вправо':\n",
        "        x += quantity\n",
        "way = abs(x) + abs(y)\n",
        "print(f\"Пётр находится на расстоянии {way} от (0,0)\")"
      ],
      "metadata": {
        "colab": {
          "base_uri": "https://localhost:8080/"
        },
        "id": "p37aphCewusS",
        "outputId": "8826f8b2-e610-47fd-bab7-6fd218c1d658"
      },
      "execution_count": null,
      "outputs": [
        {
          "output_type": "stream",
          "name": "stdout",
          "text": [
            "3\n",
            "Ход 1: Вверх 1\n",
            "Ход 2: Вниз 1\n",
            "Ход 3: Вверх 1\n",
            "Пётр находится на расстоянии 1 от (0,0)\n"
          ]
        }
      ]
    },
    {
      "cell_type": "markdown",
      "source": [
        "# 9. Развернуть число"
      ],
      "metadata": {
        "id": "hI1WHH95Eq8o"
      }
    },
    {
      "cell_type": "code",
      "source": [
        "chislo = int(input())\n",
        "revers = 0\n",
        "while chislo != 0:\n",
        "  last_digit = chislo % 10\n",
        "  revers = revers * 10 + last_digit\n",
        "  chislo = chislo // 10\n",
        "revers"
      ],
      "metadata": {
        "colab": {
          "base_uri": "https://localhost:8080/"
        },
        "id": "5tjSw1M2Esjy",
        "outputId": "adf06c3a-5dd9-4598-d837-476ae795324c"
      },
      "execution_count": null,
      "outputs": [
        {
          "name": "stdout",
          "output_type": "stream",
          "text": [
            "1234567\n"
          ]
        },
        {
          "output_type": "execute_result",
          "data": {
            "text/plain": [
              "7654321"
            ]
          },
          "metadata": {},
          "execution_count": 99
        }
      ]
    },
    {
      "cell_type": "markdown",
      "source": [
        "10. Дано целое число, что может означать зашифрованное им сообщение"
      ],
      "metadata": {
        "id": "Kze8I2fJFllK"
      }
    },
    {
      "cell_type": "code",
      "source": [
        "from itertools import product\n",
        "\n",
        "digits = str(input())\n",
        "database = {'2': 'abc', '3': 'def', '4': 'ghi', '5': 'jkl', '6': 'mno', '7': 'pqrs', '8': 'tuv', '9': 'wxyz',}\n",
        "letters = []\n",
        "for digit in digits:\n",
        "  letters.append(database.get(digit, ''))\n",
        "combos = [''.join(x) for x in product(*letters)]\n",
        "combos"
      ],
      "metadata": {
        "colab": {
          "base_uri": "https://localhost:8080/"
        },
        "id": "IwXJ3bx3FoQe",
        "outputId": "a1c0675e-86b4-4c81-89a5-6d0cbdfa7f10"
      },
      "execution_count": null,
      "outputs": [
        {
          "name": "stdout",
          "output_type": "stream",
          "text": [
            "22\n"
          ]
        },
        {
          "output_type": "execute_result",
          "data": {
            "text/plain": [
              "['aa', 'ab', 'ac', 'ba', 'bb', 'bc', 'ca', 'cb', 'cc']"
            ]
          },
          "metadata": {},
          "execution_count": 111
        }
      ]
    },
    {
      "cell_type": "markdown",
      "source": [
        "(корректор оказался немного ту мач, может быть, чуть позже...)"
      ],
      "metadata": {
        "id": "hqW-pFeEP7eK"
      }
    },
    {
      "cell_type": "markdown",
      "source": [
        "11. Объединение словарей"
      ],
      "metadata": {
        "id": "ikXl6kU9QNE_"
      }
    },
    {
      "cell_type": "code",
      "source": [
        "shops = eval(input())\n",
        "summ = {}\n",
        "for grocery_goods in shops:\n",
        "  goods = grocery_goods['товар']\n",
        "  quantity = grocery_goods['количество']\n",
        "\n",
        "  if goods in summ:\n",
        "    summ[goods] += quantity\n",
        "  else:\n",
        "    summ[goods] = quantity\n",
        "summ"
      ],
      "metadata": {
        "colab": {
          "base_uri": "https://localhost:8080/"
        },
        "id": "r2cuWom_QB29",
        "outputId": "e80010e2-f004-4777-c86d-8711b13e2e43"
      },
      "execution_count": null,
      "outputs": [
        {
          "name": "stdout",
          "output_type": "stream",
          "text": [
            "[{'товар': 'яблоки', 'количество': 400}, {'товар': 'конфеты', 'количество': 300}, {'товар': 'яблоки', 'количество': 750}]\n"
          ]
        },
        {
          "output_type": "execute_result",
          "data": {
            "text/plain": [
              "{'яблоки': 1150, 'конфеты': 300}"
            ]
          },
          "metadata": {},
          "execution_count": 114
        }
      ]
    },
    {
      "cell_type": "markdown",
      "source": [
        "12. Треугольник"
      ],
      "metadata": {
        "id": "NnAjzfS6STPY"
      }
    },
    {
      "cell_type": "code",
      "source": [
        "N_2 = int(input())\n",
        "for i in range(1, N_2 + 1):\n",
        "    for j in range(1, i + 1):\n",
        "        print(j, end=' ')\n",
        "    print()"
      ],
      "metadata": {
        "colab": {
          "base_uri": "https://localhost:8080/"
        },
        "id": "WC1Fr-TmSdm3",
        "outputId": "a0e81b05-11d1-4f9c-aef9-ed1d746be8a8"
      },
      "execution_count": null,
      "outputs": [
        {
          "output_type": "stream",
          "name": "stdout",
          "text": [
            "3\n",
            "1 \n",
            "1 2 \n",
            "1 2 3 \n"
          ]
        }
      ]
    }
  ]
}